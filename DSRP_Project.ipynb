{
  "nbformat": 4,
  "nbformat_minor": 0,
  "metadata": {
    "colab": {
      "provenance": [],
      "mount_file_id": "1z0v2ttfdEp3GZAXbPph3bPO5awbuxooZ",
      "authorship_tag": "ABX9TyNHotj4imMN7v+fNeU18nZE",
      "include_colab_link": true
    },
    "kernelspec": {
      "name": "python3",
      "display_name": "Python 3"
    },
    "language_info": {
      "name": "python"
    }
  },
  "cells": [
    {
      "cell_type": "markdown",
      "metadata": {
        "id": "view-in-github",
        "colab_type": "text"
      },
      "source": [
        "<a href=\"https://colab.research.google.com/github/KPsimo/Kidus_Football_Games/blob/main/DSRP_Project.ipynb\" target=\"_parent\"><img src=\"https://colab.research.google.com/assets/colab-badge.svg\" alt=\"Open In Colab\"/></a>"
      ]
    },
    {
      "cell_type": "code",
      "execution_count": 20,
      "metadata": {
        "colab": {
          "base_uri": "https://localhost:8080/"
        },
        "id": "TImOj-IV-aMe",
        "outputId": "7f7ccba6-c639-4ae2-d529-fa67af9959e8"
      },
      "outputs": [
        {
          "output_type": "stream",
          "name": "stdout",
          "text": [
            "Requirement already satisfied: pandas in /usr/local/lib/python3.11/dist-packages (2.2.2)\n",
            "Requirement already satisfied: numpy>=1.23.2 in /usr/local/lib/python3.11/dist-packages (from pandas) (2.0.2)\n",
            "Requirement already satisfied: python-dateutil>=2.8.2 in /usr/local/lib/python3.11/dist-packages (from pandas) (2.9.0.post0)\n",
            "Requirement already satisfied: pytz>=2020.1 in /usr/local/lib/python3.11/dist-packages (from pandas) (2025.2)\n",
            "Requirement already satisfied: tzdata>=2022.7 in /usr/local/lib/python3.11/dist-packages (from pandas) (2025.2)\n",
            "Requirement already satisfied: six>=1.5 in /usr/local/lib/python3.11/dist-packages (from python-dateutil>=2.8.2->pandas) (1.17.0)\n"
          ]
        }
      ],
      "source": [
        "!pip install pandas\n",
        "\n",
        "import warnings\n",
        "warnings.filterwarnings('ignore')\n",
        "\n",
        "\n",
        "\n",
        "import numpy as np\n",
        "import pandas as pd\n",
        "import matplotlib.pyplot as plt\n",
        "import sklearn\n",
        "\n",
        "from sklearn.feature_selection import SelectKBest\n",
        "from sklearn.model_selection import train_test_split\n",
        "from sklearn.metrics import r2_score, mean_squared_error, mean_absolute_error, accuracy_score"
      ]
    },
    {
      "cell_type": "code",
      "source": [
        "# fixed_df = pd.read_csv('/content/drive/My Drive/Colab Notebooks/games.csv')\n",
        "# fixed_df.isnull()\n",
        "from google.colab import drive\n",
        "drive.mount('/content/drive')\n",
        "\n",
        "df = pd.read_csv('/content/drive/MyDrive/Colab Notebooks/GAMES . CSV/games.csv')"
      ],
      "metadata": {
        "id": "k6gkK03O_GeS",
        "colab": {
          "base_uri": "https://localhost:8080/"
        },
        "outputId": "34fdae45-beeb-4fdf-b1a2-b85db9518331"
      },
      "execution_count": 21,
      "outputs": [
        {
          "output_type": "stream",
          "name": "stdout",
          "text": [
            "Drive already mounted at /content/drive; to attempt to forcibly remount, call drive.mount(\"/content/drive\", force_remount=True).\n"
          ]
        }
      ]
    },
    {
      "cell_type": "code",
      "source": [
        "df.columns = df.columns.str.title()\n",
        "df.columns = df.columns.str.replace('_', ' ')"
      ],
      "metadata": {
        "id": "QwWX424hKdtT"
      },
      "execution_count": 22,
      "outputs": []
    },
    {
      "cell_type": "code",
      "source": [
        "df['Temp'].median()"
      ],
      "metadata": {
        "id": "ZneSDXyRCpt5",
        "colab": {
          "base_uri": "https://localhost:8080/"
        },
        "outputId": "c42f2b9c-3b84-446e-a4b0-313acd4c3beb"
      },
      "execution_count": 23,
      "outputs": [
        {
          "output_type": "execute_result",
          "data": {
            "text/plain": [
              "59.0"
            ]
          },
          "metadata": {},
          "execution_count": 23
        }
      ]
    },
    {
      "cell_type": "code",
      "source": [
        "df[df['Wind']>55]\n",
        "df = df.drop(index =[2396])\n",
        "df= df.drop(index =[4703])"
      ],
      "metadata": {
        "id": "dN-tyMP3CvCc"
      },
      "execution_count": 24,
      "outputs": []
    },
    {
      "cell_type": "code",
      "source": [
        "df[df['Result']<-20]\n",
        "df.columns\n"
      ],
      "metadata": {
        "id": "jlU8gk8WL9MR",
        "colab": {
          "base_uri": "https://localhost:8080/"
        },
        "outputId": "8398e698-327c-43c1-faa0-6a5c9d9ac85e"
      },
      "execution_count": 25,
      "outputs": [
        {
          "output_type": "execute_result",
          "data": {
            "text/plain": [
              "Index(['Game Id', 'Season', 'Game Type', 'Week', 'Gameday', 'Weekday',\n",
              "       'Gametime', 'Away Team', 'Away Score', 'Home Team', 'Home Score',\n",
              "       'Location', 'Result', 'Total', 'Overtime', 'Old Game Id', 'Gsis',\n",
              "       'Nfl Detail Id', 'Pfr', 'Pff', 'Espn', 'Ftn', 'Away Rest', 'Home Rest',\n",
              "       'Away Moneyline', 'Home Moneyline', 'Spread Line', 'Away Spread Odds',\n",
              "       'Home Spread Odds', 'Total Line', 'Under Odds', 'Over Odds', 'Div Game',\n",
              "       'Roof', 'Surface', 'Temp', 'Wind', 'Away Qb Id', 'Home Qb Id',\n",
              "       'Away Qb Name', 'Home Qb Name', 'Away Coach', 'Home Coach', 'Referee',\n",
              "       'Stadium Id', 'Stadium'],\n",
              "      dtype='object')"
            ]
          },
          "metadata": {},
          "execution_count": 25
        }
      ]
    },
    {
      "cell_type": "markdown",
      "source": [
        "Removing unnessecary columns"
      ],
      "metadata": {
        "id": "u4nMrnFkSMIv"
      }
    },
    {
      "cell_type": "code",
      "source": [
        "cols_to_drop = ['Away Qb Name', 'Home Qb Name', 'Away Qb Id', 'Home Qb Id', 'Away Coach',\n",
        "               'Home Coach', 'Pff', 'Ftn', 'Away Rest', 'Home Rest', 'Pff', 'Ftn', 'Nfl Detail Id',\n",
        "               'Pfr', 'Espn', 'Away Rest', 'Home Rest', 'Old Game Id', 'Gsis', 'Stadium Id', 'Stadium',\n",
        "               'Under Odds', 'Over Odds', 'Div Game', 'Game Id']\n",
        "fixed_df = df.drop(columns=cols_to_drop)\n",
        "fixed_df.columns"
      ],
      "metadata": {
        "id": "lLZMUR8tQ4cv",
        "colab": {
          "base_uri": "https://localhost:8080/"
        },
        "outputId": "ea8aeb10-ef9b-4a98-bb99-bafde7769bf0"
      },
      "execution_count": 26,
      "outputs": [
        {
          "output_type": "execute_result",
          "data": {
            "text/plain": [
              "Index(['Season', 'Game Type', 'Week', 'Gameday', 'Weekday', 'Gametime',\n",
              "       'Away Team', 'Away Score', 'Home Team', 'Home Score', 'Location',\n",
              "       'Result', 'Total', 'Overtime', 'Away Moneyline', 'Home Moneyline',\n",
              "       'Spread Line', 'Away Spread Odds', 'Home Spread Odds', 'Total Line',\n",
              "       'Roof', 'Surface', 'Temp', 'Wind', 'Referee'],\n",
              "      dtype='object')"
            ]
          },
          "metadata": {},
          "execution_count": 26
        }
      ]
    },
    {
      "cell_type": "code",
      "source": [
        "fixed_df.loc[fixed_df['Roof'] == 'closed', 'Temp'] = fixed_df.loc[fixed_df['Roof'] == 'closed', 'Temp'].fillna(fixed_df['Temp'].median())\n",
        "fixed_df.loc[fixed_df['Roof'] == 'dome', 'Temp'] = fixed_df.loc[fixed_df['Roof'] == 'dome', 'Temp'].fillna(fixed_df['Temp'].median()) #Regulated temp so I took the median to balalnce"
      ],
      "metadata": {
        "id": "Qhp1mMD7WPaN"
      },
      "execution_count": 27,
      "outputs": []
    },
    {
      "cell_type": "code",
      "source": [
        "fixed_df.loc[fixed_df['Roof'] == 'closed', 'Wind'] = fixed_df.loc[fixed_df['Roof'] == 'closed', 'Wind'].fillna(0)\n",
        "fixed_df.loc[fixed_df['Roof'] == 'dome', 'Wind'] = fixed_df.loc[fixed_df['Roof'] == 'dome', 'Wind'].fillna(0) #Indoors has no wind\n",
        "pd.set_option('display.max_columns', None)  # Show all columns"
      ],
      "metadata": {
        "id": "xIER8bMSeUBW"
      },
      "execution_count": 28,
      "outputs": []
    },
    {
      "cell_type": "markdown",
      "source": [
        "New Column for Wins"
      ],
      "metadata": {
        "id": "pctTy7wuTa_Z"
      }
    },
    {
      "cell_type": "code",
      "source": [
        "fixed_df['Result']"
      ],
      "metadata": {
        "id": "WPRFc2zwXhHH",
        "colab": {
          "base_uri": "https://localhost:8080/",
          "height": 458
        },
        "outputId": "140cd6b5-5a4c-442e-cd75-9d49fa2c8189"
      },
      "execution_count": 29,
      "outputs": [
        {
          "output_type": "execute_result",
          "data": {
            "text/plain": [
              "0       -3.0\n",
              "1        3.0\n",
              "2      -43.0\n",
              "3        4.0\n",
              "4       17.0\n",
              "        ... \n",
              "7258     NaN\n",
              "7259     NaN\n",
              "7260     NaN\n",
              "7261     NaN\n",
              "7262     NaN\n",
              "Name: Result, Length: 7261, dtype: float64"
            ],
            "text/html": [
              "<div>\n",
              "<style scoped>\n",
              "    .dataframe tbody tr th:only-of-type {\n",
              "        vertical-align: middle;\n",
              "    }\n",
              "\n",
              "    .dataframe tbody tr th {\n",
              "        vertical-align: top;\n",
              "    }\n",
              "\n",
              "    .dataframe thead th {\n",
              "        text-align: right;\n",
              "    }\n",
              "</style>\n",
              "<table border=\"1\" class=\"dataframe\">\n",
              "  <thead>\n",
              "    <tr style=\"text-align: right;\">\n",
              "      <th></th>\n",
              "      <th>Result</th>\n",
              "    </tr>\n",
              "  </thead>\n",
              "  <tbody>\n",
              "    <tr>\n",
              "      <th>0</th>\n",
              "      <td>-3.0</td>\n",
              "    </tr>\n",
              "    <tr>\n",
              "      <th>1</th>\n",
              "      <td>3.0</td>\n",
              "    </tr>\n",
              "    <tr>\n",
              "      <th>2</th>\n",
              "      <td>-43.0</td>\n",
              "    </tr>\n",
              "    <tr>\n",
              "      <th>3</th>\n",
              "      <td>4.0</td>\n",
              "    </tr>\n",
              "    <tr>\n",
              "      <th>4</th>\n",
              "      <td>17.0</td>\n",
              "    </tr>\n",
              "    <tr>\n",
              "      <th>...</th>\n",
              "      <td>...</td>\n",
              "    </tr>\n",
              "    <tr>\n",
              "      <th>7258</th>\n",
              "      <td>NaN</td>\n",
              "    </tr>\n",
              "    <tr>\n",
              "      <th>7259</th>\n",
              "      <td>NaN</td>\n",
              "    </tr>\n",
              "    <tr>\n",
              "      <th>7260</th>\n",
              "      <td>NaN</td>\n",
              "    </tr>\n",
              "    <tr>\n",
              "      <th>7261</th>\n",
              "      <td>NaN</td>\n",
              "    </tr>\n",
              "    <tr>\n",
              "      <th>7262</th>\n",
              "      <td>NaN</td>\n",
              "    </tr>\n",
              "  </tbody>\n",
              "</table>\n",
              "<p>7261 rows × 1 columns</p>\n",
              "</div><br><label><b>dtype:</b> float64</label>"
            ]
          },
          "metadata": {},
          "execution_count": 29
        }
      ]
    },
    {
      "cell_type": "code",
      "source": [
        "fixed_df['Home Result'] = ''\n",
        "\n",
        "fixed_df.loc[fixed_df['Result'] > 0, 'Home Result'] = \"Win\"\n",
        "fixed_df.loc[fixed_df['Result'] < 0, 'Home Result'] = \"Lose\"\n",
        "fixed_df.loc[fixed_df['Result'] == 0, 'Home Result'] = \"Draw\""
      ],
      "metadata": {
        "id": "PBnN-9UNWnCj"
      },
      "execution_count": 30,
      "outputs": []
    },
    {
      "cell_type": "code",
      "source": [
        "categories = ['PLACEHOLDER']\n",
        "bars = fixed_df[''].value_counts()\n",
        "\n",
        "plt.bar(categories, bars)\n",
        "plt.show()"
      ],
      "metadata": {
        "id": "ZMkH2XxTdqgi"
      },
      "execution_count": 31,
      "outputs": []
    }
  ]
}
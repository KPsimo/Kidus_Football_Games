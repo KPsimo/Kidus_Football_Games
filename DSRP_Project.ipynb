{
  "nbformat": 4,
  "nbformat_minor": 0,
  "metadata": {
    "colab": {
      "provenance": [],
      "toc_visible": true,
      "authorship_tag": "ABX9TyPbgcpAPvKoLZw5WjXCPeFa",
      "include_colab_link": true
    },
    "kernelspec": {
      "name": "python3",
      "display_name": "Python 3"
    },
    "language_info": {
      "name": "python"
    }
  },
  "cells": [
    {
      "cell_type": "markdown",
      "metadata": {
        "id": "view-in-github",
        "colab_type": "text"
      },
      "source": [
        "<a href=\"https://colab.research.google.com/github/KPsimo/Kidus_Football_Games/blob/main/DSRP_Project.ipynb\" target=\"_parent\"><img src=\"https://colab.research.google.com/assets/colab-badge.svg\" alt=\"Open In Colab\"/></a>"
      ]
    },
    {
      "cell_type": "code",
      "execution_count": 5,
      "metadata": {
        "colab": {
          "base_uri": "https://localhost:8080/"
        },
        "id": "TImOj-IV-aMe",
        "outputId": "49281a45-a3d9-42ed-c2d1-93b0d25d441b"
      },
      "outputs": [
        {
          "output_type": "stream",
          "name": "stdout",
          "text": [
            "Requirement already satisfied: pandas in /usr/local/lib/python3.11/dist-packages (2.2.2)\n",
            "Requirement already satisfied: numpy>=1.23.2 in /usr/local/lib/python3.11/dist-packages (from pandas) (2.0.2)\n",
            "Requirement already satisfied: python-dateutil>=2.8.2 in /usr/local/lib/python3.11/dist-packages (from pandas) (2.9.0.post0)\n",
            "Requirement already satisfied: pytz>=2020.1 in /usr/local/lib/python3.11/dist-packages (from pandas) (2025.2)\n",
            "Requirement already satisfied: tzdata>=2022.7 in /usr/local/lib/python3.11/dist-packages (from pandas) (2025.2)\n",
            "Requirement already satisfied: six>=1.5 in /usr/local/lib/python3.11/dist-packages (from python-dateutil>=2.8.2->pandas) (1.17.0)\n"
          ]
        }
      ],
      "source": [
        "!pip install pandas\n",
        "\n",
        "import warnings\n",
        "warnings.filterwarnings('ignore')\n",
        "\n",
        "\n",
        "\n",
        "import numpy as np\n",
        "import pandas as pd\n",
        "import matplotlib.pyplot as plt\n",
        "import sklearn\n",
        "\n",
        "from sklearn.feature_selection import SelectKBest\n",
        "from sklearn.model_selection import train_test_split\n",
        "from sklearn.metrics import r2_score, mean_squared_error, mean_absolute_error, accuracy_score"
      ]
    },
    {
      "cell_type": "code",
      "source": [
        "# fixed_df = pd.read_csv('/content/drive/My Drive/Colab Notebooks/games.csv')\n",
        "# fixed_df.isnull()\n",
        "from google.colab import drive\n",
        "df = pd.read_csv('/content/drive/My Drive/Colab Notebooks/My Drive Colab Notebooks /games.csv')"
      ],
      "metadata": {
        "id": "k6gkK03O_GeS",
        "colab": {
          "base_uri": "https://localhost:8080/"
        },
        "outputId": "08812efd-5d1e-4cf5-d601-cf5df071a1d7"
      },
      "execution_count": 23,
      "outputs": [
        {
          "output_type": "stream",
          "name": "stdout",
          "text": [
            "Drive already mounted at /content/drive; to attempt to forcibly remount, call drive.mount(\"/content/drive\", force_remount=True).\n"
          ]
        }
      ]
    },
    {
      "cell_type": "code",
      "source": [
        "df.columns = df.columns.str.title()\n",
        "df.columns = df.columns.str.replace('_', ' ')"
      ],
      "metadata": {
        "id": "QwWX424hKdtT"
      },
      "execution_count": 24,
      "outputs": []
    },
    {
      "cell_type": "code",
      "source": [
        "df['Temp'].median()"
      ],
      "metadata": {
        "colab": {
          "base_uri": "https://localhost:8080/"
        },
        "id": "ZneSDXyRCpt5",
        "outputId": "ba99456e-f22b-4d95-9cdf-a1dbb7ee6d51"
      },
      "execution_count": 25,
      "outputs": [
        {
          "output_type": "execute_result",
          "data": {
            "text/plain": [
              "59.0"
            ]
          },
          "metadata": {},
          "execution_count": 25
        }
      ]
    },
    {
      "cell_type": "code",
      "source": [
        "df[df['Wind']>55]\n",
        "df = df.drop(index =[2396])\n",
        "df= df.drop(index =[4703])"
      ],
      "metadata": {
        "id": "dN-tyMP3CvCc"
      },
      "execution_count": 26,
      "outputs": []
    },
    {
      "cell_type": "code",
      "source": [
        "df[df['Result']<-20]\n",
        "df.columns\n"
      ],
      "metadata": {
        "colab": {
          "base_uri": "https://localhost:8080/"
        },
        "id": "jlU8gk8WL9MR",
        "outputId": "09e95572-5513-4087-80c8-0a4ac3ea1063"
      },
      "execution_count": 27,
      "outputs": [
        {
          "output_type": "execute_result",
          "data": {
            "text/plain": [
              "Index(['Game Id', 'Season', 'Game Type', 'Week', 'Gameday', 'Weekday',\n",
              "       'Gametime', 'Away Team', 'Away Score', 'Home Team', 'Home Score',\n",
              "       'Location', 'Result', 'Total', 'Overtime', 'Old Game Id', 'Gsis',\n",
              "       'Nfl Detail Id', 'Pfr', 'Pff', 'Espn', 'Ftn', 'Away Rest', 'Home Rest',\n",
              "       'Away Moneyline', 'Home Moneyline', 'Spread Line', 'Away Spread Odds',\n",
              "       'Home Spread Odds', 'Total Line', 'Under Odds', 'Over Odds', 'Div Game',\n",
              "       'Roof', 'Surface', 'Temp', 'Wind', 'Away Qb Id', 'Home Qb Id',\n",
              "       'Away Qb Name', 'Home Qb Name', 'Away Coach', 'Home Coach', 'Referee',\n",
              "       'Stadium Id', 'Stadium'],\n",
              "      dtype='object')"
            ]
          },
          "metadata": {},
          "execution_count": 27
        }
      ]
    },
    {
      "cell_type": "markdown",
      "source": [
        "Removing unnessecary columns"
      ],
      "metadata": {
        "id": "u4nMrnFkSMIv"
      }
    },
    {
      "cell_type": "code",
      "source": [
        "cols_to_drop = ['Away Qb Name', 'Home Qb Name', 'Away Qb Id', 'Home Qb Id', 'Away Coach',\n",
        "               'Home Coach', 'Pff', 'Ftn', 'Away Rest', 'Home Rest', 'Pff', 'Ftn', 'Nfl Detail Id',\n",
        "               'Pfr', 'Espn', 'Away Rest', 'Home Rest', 'Old Game Id', 'Gsis', 'Stadium Id', 'Stadium',\n",
        "               'Under Odds', 'Over Odds', 'Div Game', 'Game Id']\n",
        "fixed_df = df.drop(columns=cols_to_drop)\n",
        "fixed_df.columns"
      ],
      "metadata": {
        "colab": {
          "base_uri": "https://localhost:8080/"
        },
        "id": "lLZMUR8tQ4cv",
        "outputId": "32de9ab2-9ad0-4d4e-c0c3-4787fbcc8b79"
      },
      "execution_count": 35,
      "outputs": [
        {
          "output_type": "execute_result",
          "data": {
            "text/plain": [
              "Index(['Season', 'Game Type', 'Week', 'Gameday', 'Weekday', 'Gametime',\n",
              "       'Away Team', 'Away Score', 'Home Team', 'Home Score', 'Location',\n",
              "       'Result', 'Total', 'Overtime', 'Away Moneyline', 'Home Moneyline',\n",
              "       'Spread Line', 'Away Spread Odds', 'Home Spread Odds', 'Total Line',\n",
              "       'Roof', 'Surface', 'Temp', 'Wind', 'Referee'],\n",
              "      dtype='object')"
            ]
          },
          "metadata": {},
          "execution_count": 35
        }
      ]
    },
    {
      "cell_type": "code",
      "source": [
        "fixed_df.loc[fixed_df['Roof'] == 'closed', 'Temp'] = fixed_df.loc[fixed_df['Roof'] == 'closed', 'Temp'].fillna(fixed_df['Temp'].median())\n",
        "fixed_df.loc[fixed_df['Roof'] == 'dome', 'Temp'] = fixed_df.loc[fixed_df['Roof'] == 'dome', 'Temp'].fillna(fixed_df['Temp'].median()) #Regulated temp so I took the median to balalnce"
      ],
      "metadata": {
        "id": "Qhp1mMD7WPaN"
      },
      "execution_count": 36,
      "outputs": []
    },
    {
      "cell_type": "code",
      "source": [
        "fixed_df.loc[fixed_df['Roof'] == 'closed', 'Wind'] = fixed_df.loc[fixed_df['Roof'] == 'closed', 'Wind'].fillna(0)\n",
        "fixed_df.loc[fixed_df['Roof'] == 'dome', 'Wind'] = fixed_df.loc[fixed_df['Roof'] == 'dome', 'Wind'].fillna(0) #Indoors has no wind\n",
        "pd.set_option('display.max_columns', None)  # Show all columns"
      ],
      "metadata": {
        "id": "xIER8bMSeUBW"
      },
      "execution_count": 37,
      "outputs": []
    },
    {
      "cell_type": "code",
      "source": [
        "# categories = ['PLACEHOLDER']\n",
        "# bars = fixed_df[''].value_counts()\n",
        "\n",
        "# plt.bar(categories, bars)\n",
        "# plt.show()"
      ],
      "metadata": {
        "id": "ZMkH2XxTdqgi"
      },
      "execution_count": 39,
      "outputs": []
    },
    {
      "cell_type": "code",
      "source": [
        "print('a')"
      ],
      "metadata": {
        "colab": {
          "base_uri": "https://localhost:8080/"
        },
        "id": "JtYIPwPydrlq",
        "outputId": "6f23a4e6-2423-4dfe-f40b-bfb915f3b976"
      },
      "execution_count": 40,
      "outputs": [
        {
          "output_type": "stream",
          "name": "stdout",
          "text": [
            "a\n"
          ]
        }
      ]
    },
    {
      "cell_type": "code",
      "source": [],
      "metadata": {
        "id": "vrrsz4BdKiEq"
      },
      "execution_count": null,
      "outputs": []
    }
  ]
}